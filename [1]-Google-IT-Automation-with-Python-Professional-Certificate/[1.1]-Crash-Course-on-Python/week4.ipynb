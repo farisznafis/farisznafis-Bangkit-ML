{
 "cells": [
  {
   "cell_type": "markdown",
   "metadata": {},
   "source": [
    "# Graded Assessment"
   ]
  },
  {
   "cell_type": "markdown",
   "metadata": {},
   "source": [
    "## 1.1"
   ]
  },
  {
   "cell_type": "markdown",
   "metadata": {},
   "source": [
    "The format of the input variable “address_string” is: numeric house number, followed by the street name which may contain numbers and could be several words long (e.g., \"123 Main Street\", \"1001 1st Ave\", or \"55 North Center Drive\"). \n",
    "\n",
    "Complete the string methods needed in this function so that input like \"123 Main Street\" will produce the output \"House number 123 on a street named Main Street\". This function should:\n",
    "\n",
    "1. accept a string through the parameters of the function;\n",
    "2. separate the address string into new strings: house_number and street_name; \n",
    "3. return the variables in the string format: \"House number X on a street named Y\". "
   ]
  },
  {
   "cell_type": "code",
   "execution_count": null,
   "metadata": {},
   "outputs": [],
   "source": [
    "def format_address(address_string):\n",
    "\n",
    "\n",
    "    house_number = \"\"\n",
    "    street_name = \"\"\n",
    "\n",
    "\n",
    "    # Separate the house number from the street name.\n",
    "    address_parts = address_string.split()\n",
    "    \n",
    "    for address_part in address_parts:\n",
    "       # Complete the if-statement with a string method.  \n",
    "       if address_part.isdigit():\n",
    "         house_number = address_part\n",
    "       else:\n",
    "         street_name += address_part + \" \"\n",
    "    # Remove the extra space at the end of the last \"street_name\".\n",
    "    street_name = street_name.strip()\n",
    " \n",
    "    # Use a string method to return the required formatted string.\n",
    "    return \"House number {} on a street named {}\".format(house_number, street_name)\n",
    "\n",
    "\n",
    "print(format_address(\"123 Main Street\"))\n",
    "# Should print: \"House number 123 on a street named Main Street\"\n",
    "\n",
    "\n",
    "print(format_address(\"1001 1st Ave\"))\n",
    "# Should print: \"House number 1001 on a street named 1st Ave\"\n",
    "\n",
    "\n",
    "print(format_address(\"55 North Center Drive\"))\n",
    "# Should print \"House number 55 on a street named North Center Drive\"\n"
   ]
  },
  {
   "cell_type": "markdown",
   "metadata": {},
   "source": [
    "# 1.2"
   ]
  },
  {
   "cell_type": "markdown",
   "metadata": {},
   "source": [
    "Fill in the blanks to complete the “confirm_length” function. This function should return how many characters a string contains as long as it has one or more characters, otherwise it will return 0. Complete the string operations needed in this function so that input like \"Monday\" will produce the output \"6\"."
   ]
  },
  {
   "cell_type": "code",
   "execution_count": null,
   "metadata": {},
   "outputs": [],
   "source": [
    "def confirm_length(word):\n",
    "    count = 0\n",
    "    # Complete the condition statement using a string operation. \n",
    "    if len(word) > 0:\n",
    "        # Complete the return statement using a string operation.\n",
    "        return len(word)\n",
    "    else:\n",
    "        return 0\n",
    "\n",
    "\n",
    "print(confirm_length(\"a\")) # Should print 1\n",
    "print(confirm_length(\"This is a long string\")) # Should print 21\n",
    "print(confirm_length(\"Monday\")) # Should print 6\n",
    "print(confirm_length(\"\")) # Should print 0"
   ]
  },
  {
   "cell_type": "markdown",
   "metadata": {},
   "source": [
    "## 2"
   ]
  },
  {
   "cell_type": "markdown",
   "metadata": {},
   "source": [
    "Fill in the blank to complete the “string_words” function. This function should split up the words in the given “string” and return the number of words in the “string”.  Complete the string operation and method needed in this function so that a function call like \"string_words(\"Hello, World\")\" will return the output \"2\"."
   ]
  },
  {
   "cell_type": "code",
   "execution_count": 9,
   "metadata": {},
   "outputs": [
    {
     "name": "stdout",
     "output_type": "stream",
     "text": [
      "2\n",
      "3\n",
      "2\n",
      "4\n"
     ]
    }
   ],
   "source": [
    "def string_words(string):\n",
    "    # Complete the return statement using both a string operation and \n",
    "    # a string method in a single line.\n",
    "    return len(string.split())\n",
    "\n",
    "\n",
    "print(string_words(\"Hello, World\")) # Should print 2\n",
    "print(string_words(\"Python is awesome\")) # Should print 3\n",
    "print(string_words(\"Keep going\")) # Should print 2\n",
    "print(string_words(\"Have a nice day\")) # Should print 4"
   ]
  },
  {
   "cell_type": "markdown",
   "metadata": {},
   "source": [
    "## 3"
   ]
  },
  {
   "cell_type": "markdown",
   "metadata": {},
   "source": [
    "Consider the following scenario about using Python lists:\n",
    "\n",
    "Employees at a company shared  the distance they drive to work (in miles) through an online survey. These distances were automatically added by Python to a list called “distances” in the order that each employee submitted their distance. Management wants the list to be sorted in the order of the longest distance to the shortest distance. \n",
    "\n",
    "Complete the function to sort the \"distances\" list. This function should:\n",
    "1. sort the given \"distances\" list, passed through the function's parameters;\n",
    "2. reverse the sort order so that it goes from the longest to the shortest distance;\n",
    "3. return the modified “distances” list."
   ]
  },
  {
   "cell_type": "code",
   "execution_count": 13,
   "metadata": {},
   "outputs": [
    {
     "name": "stdout",
     "output_type": "stream",
     "text": [
      "[15, 9, 8, 4, 2, 0]\n"
     ]
    }
   ],
   "source": [
    "def sort_distance(distances):\n",
    "    distances.sort() # Sort the list\n",
    "    distances.reverse() # Reverse the order of the list\n",
    "    return distances\n",
    "\n",
    "\n",
    "print(sort_distance([2,4,0,15,8,9]))\n",
    "# Should print [15, 9, 8, 4, 2, 0]"
   ]
  },
  {
   "cell_type": "markdown",
   "metadata": {},
   "source": [
    "## 4.1"
   ]
  },
  {
   "cell_type": "markdown",
   "metadata": {},
   "source": [
    "Fill in the blank to complete the “increments” function. This function should use a list comprehension to create a list of numbers incremented by 2 (n+2). The function receives two variables and should return a list of incremented consecutive numbers between “start” and “end” inclusively (meaning the range should include both the \"start\" and \"end\" values). Complete the list comprehension in this function so that input like “squares(2, 3)” will produce the output “[4, 5]”."
   ]
  },
  {
   "cell_type": "code",
   "execution_count": 12,
   "metadata": {},
   "outputs": [
    {
     "name": "stdout",
     "output_type": "stream",
     "text": [
      "[4, 5]\n",
      "[3, 4, 5, 6, 7]\n",
      "[2, 3, 4, 5, 6, 7, 8, 9, 10, 11, 12]\n"
     ]
    }
   ],
   "source": [
    "def increments(start, end):\n",
    "    return [ x for x in range(start+2, end+3) ] # Create the required list comprehension.\n",
    "\n",
    "\n",
    "print(increments(2, 3)) # Should print [4, 5]\n",
    "print(increments(1, 5)) # Should print [3, 4, 5, 6, 7]\n",
    "print(increments(0, 10)) # Should print [2, 3, 4, 5, 6, 7, 8, 9, 10, 11, 12]"
   ]
  },
  {
   "cell_type": "markdown",
   "metadata": {},
   "source": [
    "## 4.2"
   ]
  },
  {
   "cell_type": "markdown",
   "metadata": {},
   "source": [
    " Fill in the blank to complete the “even_numbers” function. This function should use a list comprehension to create a list of even numbers using a conditional if statement with the modulo operator to test for numbers evenly divisible by 2. The function receives two variables and should return the list of even numbers that occur between the “first” and “last” variables exclusively (meaning don’t modify the default behavior of the range to exclude the “end” value in the range)"
   ]
  },
  {
   "cell_type": "code",
   "execution_count": 10,
   "metadata": {},
   "outputs": [
    {
     "name": "stdout",
     "output_type": "stream",
     "text": [
      "[4, 6, 8, 10, 12]\n",
      "[0, 2, 4, 6, 8]\n",
      "[2, 4, 6]\n"
     ]
    }
   ],
   "source": [
    "def even_numbers(first, last):\n",
    "  return [ x for x in range(first, last) if x%2 == 0]\n",
    "\n",
    "\n",
    "print(even_numbers(4, 14)) # Should print [4, 6, 8, 10, 12]\n",
    "print(even_numbers(0, 9))  # Should print [0, 2, 4, 6, 8]\n",
    "print(even_numbers(2, 7))  # Should print [2, 4, 6]"
   ]
  },
  {
   "cell_type": "markdown",
   "metadata": {},
   "source": [
    "## 5.1"
   ]
  },
  {
   "cell_type": "markdown",
   "metadata": {},
   "source": [
    "Fill in the blanks to complete the “countries” function. This function accepts a dictionary containing a list of continents (keys) and several countries from each continent (values).  For each continent, format a string to print the names of the countries only. The values for each key should appear on their own line."
   ]
  },
  {
   "cell_type": "code",
   "execution_count": 7,
   "metadata": {},
   "outputs": [
    {
     "name": "stdout",
     "output_type": "stream",
     "text": [
      "['Kenya', 'Egypt', 'Nigeria']\n",
      "['China', 'India', 'Thailand']\n",
      "['Ecuador', 'Bolivia', 'Brazil']\n"
     ]
    }
   ],
   "source": [
    "def countries(countries_dict):\n",
    "    result = \"\"\n",
    "    # Complete the for loop to iterate through the key and value items \n",
    "    # in the dictionary.\n",
    "    for key, value in countries_dict.items():\n",
    "        # Use a string method to format the required string.\n",
    "        result += str(value) + \"\\n\"\n",
    "    return result.strip()\n",
    "\n",
    "print(countries({\"Africa\": [\"Kenya\", \"Egypt\", \"Nigeria\"], \"Asia\":[\"China\", \"India\", \"Thailand\"], \"South America\": [\"Ecuador\", \"Bolivia\", \"Brazil\"]}))\n",
    "\n",
    "# Should print:\n",
    "# ['Kenya', 'Egypt', 'Nigeria']\n",
    "# ['China', 'India', 'Thailand']\n",
    "# ['Ecuador', 'Bolivia', 'Brazil']"
   ]
  },
  {
   "cell_type": "markdown",
   "metadata": {},
   "source": [
    "## 5.2"
   ]
  },
  {
   "cell_type": "markdown",
   "metadata": {},
   "source": [
    "Fill in the blanks to complete the “endangered_animals” function. This function accepts a dictionary containing a list of endangered animals (keys) and their remaining population (values).  For each key in the given “animal_dict” dictionary, format a string to print the name of the animal, with one animal name per line."
   ]
  },
  {
   "cell_type": "code",
   "execution_count": 11,
   "metadata": {},
   "outputs": [
    {
     "name": "stdout",
     "output_type": "stream",
     "text": [
      "Javan Rhinoceros\n",
      "Vaquita\n",
      "Mountain Gorilla\n",
      "Tiger\n",
      "\n"
     ]
    }
   ],
   "source": [
    "def endangered_animals(animal_dict):\n",
    "    result = \"\"\n",
    "    # Complete the for loop to iterate through the key and value items \n",
    "    # in the dictionary.    \n",
    "    for animal in animal_dict.keys():\n",
    "        # Use a string method to format the required string.\n",
    "        result += animal + \"\\n\"\n",
    "    return result\n",
    "\n",
    "\n",
    "print(endangered_animals({\"Javan Rhinoceros\":60, \"Vaquita\":10, \"Mountain Gorilla\":200, \"Tiger\":500}))\n",
    "\n",
    "# Should print:\n",
    "# Javan Rhinoceros\n",
    "# Vaquita\n",
    "# Mountain Gorilla\n",
    "# Tiger"
   ]
  },
  {
   "cell_type": "markdown",
   "metadata": {},
   "source": [
    "## 6"
   ]
  },
  {
   "cell_type": "code",
   "execution_count": null,
   "metadata": {},
   "outputs": [],
   "source": [
    "def combine_guests(guests1, guests2):\n",
    "    # Use a dictionary method to combine the dictionaries.\n",
    "    "
   ]
  },
  {
   "cell_type": "code",
   "execution_count": 8,
   "metadata": {},
   "outputs": [
    {
     "name": "stdout",
     "output_type": "stream",
     "text": [
      "{'Adam': 0, 'Camila': 0, 'David': 0, 'Jamal': 0, 'Charley': 0, 'Titus': 0, 'Raj': 0, 'Noemi': 0, 'Sakira': 0, 'Chidi': 0}\n"
     ]
    }
   ],
   "source": [
    "def setup_guests(guest_list):\n",
    "    # loop over the guest list and add each guest to the dictionary with\n",
    "    # an initial value of 0\n",
    "    result = {} # Initialize a new dictionary \n",
    "    for x in guest_list: # Iterate over the elements in the list \n",
    "         # Add each list element to the dictionary as a key with \n",
    "            # the starting value of 0\n",
    "        result[x] = 0\n",
    "    return result\n",
    "\n",
    "guests = [\"Adam\",\"Camila\",\"David\",\"Jamal\",\"Charley\",\"Titus\",\"Raj\",\"Noemi\",\"Sakira\",\"Chidi\"]\n",
    "\n",
    "print(setup_guests(guests))\n",
    "# Should print {'Adam': 0, 'Camila': 0, 'David': 0, 'Jamal': 0, 'Charley': 0, 'Titus': 0, 'Raj': 0, 'Noemi': 0, 'Sakira': 0, 'Chidi': 0}"
   ]
  },
  {
   "cell_type": "markdown",
   "metadata": {},
   "source": [
    "## 7"
   ]
  },
  {
   "cell_type": "markdown",
   "metadata": {},
   "source": [
    "Consider the following scenario about using Python dictionaries:\n",
    "\n",
    "A teacher is using a dictionary to store student grades. The grades are stored as a point value out of 100.  Currently, the teacher has a dictionary setup for Term 1 grades and wants to duplicate it for Term 2. The student name keys in the dictionary should stay the same, but the grade values should be reset to 0.\n",
    "\n",
    "Complete the “setup_gradebook” function so that input like “{\"James\": 93, \"Felicity\": 98, \"Barakaa\": 80}” will produce a resulting dictionary that contains  “{\"James\": 0, \"Felicity\": 0, \"Barakaa\": 0}”. This function should: \n",
    "\n",
    "1. accept a dictionary “old_gradebook” variable through the function’s parameters;\n",
    "2. make a copy of the “old_gradebook” dictionary;\n",
    "3. iterate over each key and value pair in the new dictionary\n",
    "4. replace the value for each key with the number 0;\n",
    "5. return the new dictionary."
   ]
  },
  {
   "cell_type": "code",
   "execution_count": null,
   "metadata": {},
   "outputs": [],
   "source": [
    "def setup_gradebook(old_gradebook):\n",
    "  # Use a dictionary method to create a new copy of the \"old_gradebook\".\n",
    "  new_gradebook = old_gradebook.copy()\n",
    "    # Complete the for loop to iterate over the new gradebook. \n",
    "  for key, value in new_gradebook.items():\n",
    "    # Use a dictionary operation to reset the grade values to 0.\n",
    "    new_gradebook[key] = 0\n",
    "  return new_gradebook\n",
    "\n",
    "fall_gradebook = {\"James\": 93, \"Felicity\": 98, \"Barakaa\": 80}\n",
    "print(setup_gradebook(fall_gradebook))\n",
    "# Should output {'James': 0, 'Felicity': 0, 'Barakaa': 0}\n"
   ]
  },
  {
   "cell_type": "markdown",
   "metadata": {},
   "source": [
    "## 8"
   ]
  },
  {
   "cell_type": "code",
   "execution_count": null,
   "metadata": {},
   "outputs": [],
   "source": [
    "car_make = \"Lamborghini\"\n",
    "print(car_make[3:-5])\n",
    "print(car_make[-1])\n",
    "print(car_make[:7])"
   ]
  },
  {
   "cell_type": "markdown",
   "metadata": {},
   "source": [
    "## 9"
   ]
  },
  {
   "cell_type": "code",
   "execution_count": 5,
   "metadata": {},
   "outputs": [
    {
     "name": "stdout",
     "output_type": "stream",
     "text": [
      "['red', 'white', 'yellow', 'blue']\n"
     ]
    }
   ],
   "source": [
    "colors = [\"red\", \"white\", \"blue\"]\n",
    "colors.insert(2, \"yellow\")\n",
    "print(colors)"
   ]
  },
  {
   "cell_type": "markdown",
   "metadata": {},
   "source": [
    "## 10"
   ]
  },
  {
   "cell_type": "code",
   "execution_count": 3,
   "metadata": {},
   "outputs": [
    {
     "data": {
      "text/plain": [
       "65"
      ]
     },
     "execution_count": 3,
     "metadata": {},
     "output_type": "execute_result"
    }
   ],
   "source": [
    "speed_limits = {\"street\": 35, \"highway\": 65, \"school\": 15}\n",
    "speed_limits[\"highway\"]"
   ]
  }
 ],
 "metadata": {
  "kernelspec": {
   "display_name": "Python 3",
   "language": "python",
   "name": "python3"
  },
  "language_info": {
   "codemirror_mode": {
    "name": "ipython",
    "version": 3
   },
   "file_extension": ".py",
   "mimetype": "text/x-python",
   "name": "python",
   "nbconvert_exporter": "python",
   "pygments_lexer": "ipython3",
   "version": "3.11.4"
  },
  "orig_nbformat": 4
 },
 "nbformat": 4,
 "nbformat_minor": 2
}
