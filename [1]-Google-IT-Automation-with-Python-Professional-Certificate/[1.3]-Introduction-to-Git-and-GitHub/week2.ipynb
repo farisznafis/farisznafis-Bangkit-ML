{
 "cells": [
  {
   "cell_type": "markdown",
   "metadata": {},
   "source": [
    "# Practice Quiz"
   ]
  },
  {
   "cell_type": "markdown",
   "metadata": {},
   "source": [
    "## Branching and Merging"
   ]
  },
  {
   "cell_type": "markdown",
   "metadata": {},
   "source": [
    "1) When we merge two branches, one of two algorithms is used. If the branches have diverged, which algoritms is used?\n",
    "\n",
    "- **three way merge**\n",
    "- fast-forward merge\n",
    "- merge conflict\n",
    "- orphan-creating merge"
   ]
  },
  {
   "cell_type": "markdown",
   "metadata": {},
   "source": [
    "2) The following code snippet represents the result of a merge conflict. Edit the code to fix the conflict and keep the version represented by the current branch."
   ]
  },
  {
   "cell_type": "code",
   "execution_count": null,
   "metadata": {},
   "outputs": [],
   "source": [
    "# <<<<<<< HEAD         \n",
    "print(\"Keep me!\")\n",
    "# =======\n",
    "# print(\"No, keep me instead!\")\n",
    "# >>>>>>> brancho-cucamonga"
   ]
  },
  {
   "cell_type": "markdown",
   "metadata": {},
   "source": [
    "3) What command would we use to throw away a merge, and start over? \n",
    "- git checkout -b (branch)\n",
    "- **git merge --abort**\n",
    "- git log --graph --oneline\n",
    "- git branch -D (name)"
   ]
  },
  {
   "cell_type": "markdown",
   "metadata": {},
   "source": [
    "4) How do we display a summarized view of the commit history for a repo, showing one line per commit? \n",
    "- git log --format=short\n",
    "- git branch -D (name)\n",
    "- **git log --oneline**\n",
    "- git checkout -b (branch)"
   ]
  },
  {
   "cell_type": "markdown",
   "metadata": {},
   "source": [
    "5) The following script contains the result of a merge conflict. Edit the code to fix the conflict, so that both versions are included."
   ]
  },
  {
   "cell_type": "code",
   "execution_count": 1,
   "metadata": {},
   "outputs": [
    {
     "name": "stdout",
     "output_type": "stream",
     "text": [
      "Start of program>>>>>>>\n",
      "End of program!\n"
     ]
    }
   ],
   "source": [
    "def main():\n",
    "# <<<<<<< HEAD\n",
    "    print(\"Start of program>>>>>>>\")\n",
    "# =======\n",
    "    print(\"End of program!\")\n",
    "# >>>>>>> improvement-to-the-code\n",
    "\n",
    "main()"
   ]
  }
 ],
 "metadata": {
  "kernelspec": {
   "display_name": "Python 3",
   "language": "python",
   "name": "python3"
  },
  "language_info": {
   "codemirror_mode": {
    "name": "ipython",
    "version": 3
   },
   "file_extension": ".py",
   "mimetype": "text/x-python",
   "name": "python",
   "nbconvert_exporter": "python",
   "pygments_lexer": "ipython3",
   "version": "3.11.4"
  },
  "orig_nbformat": 4
 },
 "nbformat": 4,
 "nbformat_minor": 2
}
