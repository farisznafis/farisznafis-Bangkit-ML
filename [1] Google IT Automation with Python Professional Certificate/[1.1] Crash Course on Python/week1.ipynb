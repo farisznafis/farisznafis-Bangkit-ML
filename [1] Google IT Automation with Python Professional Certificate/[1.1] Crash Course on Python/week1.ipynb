{
 "cells": [
  {
   "cell_type": "markdown",
   "metadata": {},
   "source": [
    "# Graded Assessment"
   ]
  },
  {
   "cell_type": "markdown",
   "metadata": {},
   "source": [
    "## 8"
   ]
  },
  {
   "cell_type": "markdown",
   "metadata": {},
   "source": [
    "Assuming there are 60 minutes in an hour, write a program that calculates the number of minutes in a 24 hour day. Print the result on the screen. Note: Your result should be in the format of just a number, not a sentence."
   ]
  },
  {
   "cell_type": "code",
   "execution_count": 1,
   "metadata": {},
   "outputs": [
    {
     "name": "stdout",
     "output_type": "stream",
     "text": [
      "1440\n"
     ]
    }
   ],
   "source": [
    "minutes_in_hour = 60\n",
    "minutes_in_day = minutes_in_hour * 24\n",
    "print(minutes_in_day)\n",
    "\n",
    "# Should print 1440"
   ]
  },
  {
   "cell_type": "markdown",
   "metadata": {},
   "source": [
    "## 9"
   ]
  },
  {
   "cell_type": "markdown",
   "metadata": {},
   "source": [
    "Use Python to calculate how many number-based passcodes can be formed with 10 numerals (0 through 9).  For a 1 numeral passcode, there would be 10 possibilities.  For a 2 numeral passcode, each numeral is independent of the other, so there would be 10 times 10 possibilities.  Using this information, print the amount of possible passwords that can be formed with 8 numerals. Note: Your result should be in the format of just a number, not a sentence."
   ]
  },
  {
   "cell_type": "code",
   "execution_count": 2,
   "metadata": {},
   "outputs": [
    {
     "name": "stdout",
     "output_type": "stream",
     "text": [
      "100000000\n"
     ]
    }
   ],
   "source": [
    "# Enter code here:\n",
    "numeral = 8\n",
    "password = 10 ** numeral\n",
    "print(password)\n",
    "# Should print 100000000"
   ]
  },
  {
   "cell_type": "markdown",
   "metadata": {},
   "source": [
    "## 10"
   ]
  },
  {
   "cell_type": "markdown",
   "metadata": {},
   "source": [
    "Consider this scenario about using Python to make calculations:\n",
    "\n",
    "In a managed computing environment, there are 200 remote computers that must download 200 MB (megabytes) of updates each month.  There are 1024 KB (kilobytes) in each MB.  \n",
    "\n",
    "Fill in the blank in the code below to compute the number of total kilobytes downloaded by these computers from the remote update server each month."
   ]
  },
  {
   "cell_type": "code",
   "execution_count": 4,
   "metadata": {},
   "outputs": [
    {
     "name": "stdout",
     "output_type": "stream",
     "text": [
      "40960000\n"
     ]
    }
   ],
   "source": [
    "download_size_kb = 200*1024\n",
    "total_computers = 200\n",
    "total_kbs = download_size_kb * total_computers\n",
    "\n",
    "print(total_kbs) # Should print 40960000.0"
   ]
  }
 ],
 "metadata": {
  "kernelspec": {
   "display_name": "Python 3",
   "language": "python",
   "name": "python3"
  },
  "language_info": {
   "codemirror_mode": {
    "name": "ipython",
    "version": 3
   },
   "file_extension": ".py",
   "mimetype": "text/x-python",
   "name": "python",
   "nbconvert_exporter": "python",
   "pygments_lexer": "ipython3",
   "version": "3.11.4"
  },
  "orig_nbformat": 4
 },
 "nbformat": 4,
 "nbformat_minor": 2
}
